{
 "cells": [
  {
   "cell_type": "code",
   "execution_count": 9,
   "id": "6211c686",
   "metadata": {},
   "outputs": [
    {
     "name": "stdout",
     "output_type": "stream",
     "text": [
      "read = [2, 3], buffer = [13, 17]\n"
     ]
    }
   ],
   "source": [
    "use std::io::{Read, BufReader};\n",
    "\n",
    "let data: &[u8] = &[2, 3, 5, 7, 11, 13, 17];\n",
    "\n",
    "let mut br = BufReader::new(data);\n",
    "\n",
    "let mut buf = [0u8; 2];\n",
    "br.read_exact(&mut buf);\n",
    "br.read_exact(&mut [0u8; 3]);\n",
    "\n",
    "println!(\"read = {:?}, buffer = {:?}\", buf, br.buffer());"
   ]
  },
  {
   "cell_type": "code",
   "execution_count": null,
   "id": "90ab0dba",
   "metadata": {},
   "outputs": [],
   "source": []
  }
 ],
 "metadata": {
  "kernelspec": {
   "display_name": "Rust",
   "language": "rust",
   "name": "rust"
  },
  "language_info": {
   "codemirror_mode": "rust",
   "file_extension": ".rs",
   "mimetype": "text/rust",
   "name": "Rust",
   "pygment_lexer": "rust",
   "version": ""
  }
 },
 "nbformat": 4,
 "nbformat_minor": 5
}
